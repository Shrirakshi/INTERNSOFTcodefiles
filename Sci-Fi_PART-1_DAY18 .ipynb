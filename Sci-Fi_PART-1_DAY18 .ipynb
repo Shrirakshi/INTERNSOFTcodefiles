{
 "cells": [
  {
   "cell_type": "code",
   "execution_count": 1,
   "id": "0e1b0d20",
   "metadata": {},
   "outputs": [],
   "source": [
    "#IMPORTS\n",
    "import os\n",
    "import time\n",
    "import subprocess\n",
    "import json"
   ]
  },
  {
   "cell_type": "code",
   "execution_count": 2,
   "id": "8eb2f9ae",
   "metadata": {},
   "outputs": [],
   "source": [
    "import wolframalpha\n",
    "import requests\n",
    "import webbrowser\n",
    "import wikipedia\n",
    "import datetime"
   ]
  },
  {
   "cell_type": "code",
   "execution_count": 3,
   "id": "5e9564f3",
   "metadata": {},
   "outputs": [],
   "source": [
    "# USED TO RECOGNIZE THE VOICE OF PERSON AND CONVERTS SPEECH TO TEXT\n",
    "import speech_recognition as sr\n",
    "#TEXT TO SPEECH CONVERSION LIBRARY\n",
    "import pyttsx3"
   ]
  },
  {
   "cell_type": "code",
   "execution_count": 4,
   "id": "676a7bd7",
   "metadata": {},
   "outputs": [
    {
     "name": "stdout",
     "output_type": "stream",
     "text": [
      "LOADING YOUR  A.I PERSONAL ASSISTANT JARVIS \n"
     ]
    }
   ],
   "source": [
    "print('LOADING YOUR  A.I PERSONAL ASSISTANT JARVIS ')"
   ]
  },
  {
   "cell_type": "code",
   "execution_count": 5,
   "id": "a8f07b7f",
   "metadata": {},
   "outputs": [],
   "source": [
    "#MICROSOFT SPEECH API(SAPI5),ENGINE CONVERTS VOICE TO TEXT ,TEXT TO VOICE\n",
    "engine =pyttsx3.init('sapi5')\n",
    "voices =engine.getProperty('voices')\n",
    "engine.setProperty(\"voice\",'voices[0].id')"
   ]
  },
  {
   "cell_type": "code",
   "execution_count": 6,
   "id": "42558a22",
   "metadata": {},
   "outputs": [],
   "source": [
    "def speak(text):\n",
    "    engine.say(text)\n",
    "    engine.runAndWait()"
   ]
  },
  {
   "cell_type": "code",
   "execution_count": 7,
   "id": "682ca2a4",
   "metadata": {},
   "outputs": [],
   "source": [
    "def wishMe():\n",
    "    hour= datetime.datetime.now().hour\n",
    "    if hour>=0 and hour<12:\n",
    "        speak(\"hello,good morning Ms.Shri\")\n",
    "        print(\"hello,good morning Ms.Shri\")\n",
    "    elif hour>=12 and hour<=18:\n",
    "        speak(\"hello,Good afternoon Ms.shri\")\n",
    "        print(\"hello,Good afternoon Ms.shri\")\n",
    "    else:\n",
    "        speak(\"Its already the night time better go to sleep\")\n",
    "        print(\"Its already the night time better go to sleep\")"
   ]
  },
  {
   "cell_type": "code",
   "execution_count": 8,
   "id": "29d2ae10",
   "metadata": {},
   "outputs": [],
   "source": [
    "def takeCommand():\n",
    "    r=sr.Recognizer()\n",
    "    with sr.Microphone() as source:\n",
    "        print(\"i AM LISTENING\")\n",
    "        audio=r.listen(source)\n",
    "        try:\n",
    "            statement=r.recognize_google(audio,language='en-in')\n",
    "            print(f\"user said:{statement}\\n\")\n",
    "        except Exception as e:\n",
    "                  speak(\"pardon me,please say that again\")\n",
    "                  return \"none\"\n",
    "        return statement          "
   ]
  },
  {
   "cell_type": "code",
   "execution_count": null,
   "id": "f8a42bcf",
   "metadata": {},
   "outputs": [],
   "source": []
  }
 ],
 "metadata": {
  "kernelspec": {
   "display_name": "Python 3 (ipykernel)",
   "language": "python",
   "name": "python3"
  },
  "language_info": {
   "codemirror_mode": {
    "name": "ipython",
    "version": 3
   },
   "file_extension": ".py",
   "mimetype": "text/x-python",
   "name": "python",
   "nbconvert_exporter": "python",
   "pygments_lexer": "ipython3",
   "version": "3.9.6"
  }
 },
 "nbformat": 4,
 "nbformat_minor": 5
}
