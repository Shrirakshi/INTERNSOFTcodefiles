{
 "cells": [
  {
   "cell_type": "markdown",
   "id": "d087aa8c",
   "metadata": {},
   "source": [
    "# Tuple\n",
    "Constructing tuples"
   ]
  },
  {
   "cell_type": "code",
   "execution_count": 1,
   "id": "372acb84",
   "metadata": {},
   "outputs": [],
   "source": [
    "#Can create a tuple with mixed types\n",
    "t=(4,5,6,7)"
   ]
  },
  {
   "cell_type": "code",
   "execution_count": 2,
   "id": "4ca1613c",
   "metadata": {},
   "outputs": [
    {
     "data": {
      "text/plain": [
       "4"
      ]
     },
     "execution_count": 2,
     "metadata": {},
     "output_type": "execute_result"
    }
   ],
   "source": [
    "#Check len just like a list\n",
    "len(t)"
   ]
  },
  {
   "cell_type": "code",
   "execution_count": 3,
   "id": "ee1c8042",
   "metadata": {},
   "outputs": [],
   "source": [
    "#Can also mix object types\n",
    "t=('shri',5,'rakshi')"
   ]
  },
  {
   "cell_type": "code",
   "execution_count": 4,
   "id": "0549ee7b",
   "metadata": {},
   "outputs": [
    {
     "data": {
      "text/plain": [
       "('shri', 5, 'rakshi')"
      ]
     },
     "execution_count": 4,
     "metadata": {},
     "output_type": "execute_result"
    }
   ],
   "source": [
    "#show\n",
    "t"
   ]
  },
  {
   "cell_type": "code",
   "execution_count": 5,
   "id": "f2d8c0c1",
   "metadata": {},
   "outputs": [
    {
     "data": {
      "text/plain": [
       "'shri'"
      ]
     },
     "execution_count": 5,
     "metadata": {},
     "output_type": "execute_result"
    }
   ],
   "source": [
    "#Use indexing just like we did in lists\n",
    "t[0]"
   ]
  },
  {
   "cell_type": "code",
   "execution_count": 6,
   "id": "74a1c641",
   "metadata": {},
   "outputs": [
    {
     "data": {
      "text/plain": [
       "'rakshi'"
      ]
     },
     "execution_count": 6,
     "metadata": {},
     "output_type": "execute_result"
    }
   ],
   "source": [
    "#Slicing just like a list\n",
    "t[-1]"
   ]
  },
  {
   "cell_type": "markdown",
   "id": "0ff93113",
   "metadata": {},
   "source": [
    "## Basic Tuple method"
   ]
  },
  {
   "cell_type": "code",
   "execution_count": 7,
   "id": "7b43155c",
   "metadata": {},
   "outputs": [
    {
     "data": {
      "text/plain": [
       "2"
      ]
     },
     "execution_count": 7,
     "metadata": {},
     "output_type": "execute_result"
    }
   ],
   "source": [
    "#Use .index to enter a value and return the index\n",
    "t.index('rakshi')"
   ]
  },
  {
   "cell_type": "code",
   "execution_count": 8,
   "id": "4f38cf46",
   "metadata": {},
   "outputs": [
    {
     "data": {
      "text/plain": [
       "1"
      ]
     },
     "execution_count": 8,
     "metadata": {},
     "output_type": "execute_result"
    }
   ],
   "source": [
    "#Use .count to count the number of times a value appears\n",
    "t.count('rakshi')"
   ]
  },
  {
   "cell_type": "code",
   "execution_count": 9,
   "id": "9e1eea02",
   "metadata": {},
   "outputs": [
    {
     "data": {
      "text/plain": [
       "1"
      ]
     },
     "execution_count": 9,
     "metadata": {},
     "output_type": "execute_result"
    }
   ],
   "source": [
    "t.count(5)"
   ]
  },
  {
   "cell_type": "code",
   "execution_count": 10,
   "id": "953ecf36",
   "metadata": {},
   "outputs": [
    {
     "data": {
      "text/plain": [
       "1"
      ]
     },
     "execution_count": 10,
     "metadata": {},
     "output_type": "execute_result"
    }
   ],
   "source": [
    "t.count('shri')"
   ]
  },
  {
   "cell_type": "markdown",
   "id": "656e334b",
   "metadata": {},
   "source": [
    "### Immutability:"
   ]
  },
  {
   "cell_type": "code",
   "execution_count": 11,
   "id": "98034037",
   "metadata": {},
   "outputs": [
    {
     "ename": "TypeError",
     "evalue": "'tuple' object does not support item assignment",
     "output_type": "error",
     "traceback": [
      "\u001b[1;31m---------------------------------------------------------------------------\u001b[0m",
      "\u001b[1;31mTypeError\u001b[0m                                 Traceback (most recent call last)",
      "\u001b[1;32mC:\\Users\\GIRISH~1\\AppData\\Local\\Temp/ipykernel_18168/594085975.py\u001b[0m in \u001b[0;36m<module>\u001b[1;34m\u001b[0m\n\u001b[1;32m----> 1\u001b[1;33m \u001b[0mt\u001b[0m\u001b[1;33m[\u001b[0m\u001b[1;36m0\u001b[0m\u001b[1;33m]\u001b[0m\u001b[1;33m=\u001b[0m\u001b[1;34m'Change'\u001b[0m\u001b[1;33m\u001b[0m\u001b[1;33m\u001b[0m\u001b[0m\n\u001b[0m",
      "\u001b[1;31mTypeError\u001b[0m: 'tuple' object does not support item assignment"
     ]
    }
   ],
   "source": [
    "t[0]='Change'"
   ]
  },
  {
   "cell_type": "code",
   "execution_count": 12,
   "id": "163c9477",
   "metadata": {},
   "outputs": [
    {
     "ename": "AttributeError",
     "evalue": "'tuple' object has no attribute 'append'",
     "output_type": "error",
     "traceback": [
      "\u001b[1;31m---------------------------------------------------------------------------\u001b[0m",
      "\u001b[1;31mAttributeError\u001b[0m                            Traceback (most recent call last)",
      "\u001b[1;32mC:\\Users\\GIRISH~1\\AppData\\Local\\Temp/ipykernel_18168/3007115639.py\u001b[0m in \u001b[0;36m<module>\u001b[1;34m\u001b[0m\n\u001b[1;32m----> 1\u001b[1;33m \u001b[0mt\u001b[0m\u001b[1;33m.\u001b[0m\u001b[0mappend\u001b[0m\u001b[1;33m(\u001b[0m\u001b[1;34m'nope'\u001b[0m\u001b[1;33m)\u001b[0m\u001b[1;33m\u001b[0m\u001b[1;33m\u001b[0m\u001b[0m\n\u001b[0m",
      "\u001b[1;31mAttributeError\u001b[0m: 'tuple' object has no attribute 'append'"
     ]
    }
   ],
   "source": [
    "t.append('nope')"
   ]
  },
  {
   "cell_type": "markdown",
   "id": "8697e714",
   "metadata": {},
   "source": [
    "## When to use Tuples\n",
    "### Sets:"
   ]
  },
  {
   "cell_type": "code",
   "execution_count": 13,
   "id": "3c8c447b",
   "metadata": {},
   "outputs": [],
   "source": [
    "x=set()"
   ]
  },
  {
   "cell_type": "code",
   "execution_count": 14,
   "id": "cfac74b1",
   "metadata": {},
   "outputs": [],
   "source": [
    "#We add to sets with the add() method\n",
    "x.add('shri')"
   ]
  },
  {
   "cell_type": "code",
   "execution_count": 15,
   "id": "f4829ae9",
   "metadata": {},
   "outputs": [
    {
     "data": {
      "text/plain": [
       "{'shri'}"
      ]
     },
     "execution_count": 15,
     "metadata": {},
     "output_type": "execute_result"
    }
   ],
   "source": [
    "#show\n",
    "x"
   ]
  },
  {
   "cell_type": "code",
   "execution_count": 16,
   "id": "dc9a97ec",
   "metadata": {},
   "outputs": [],
   "source": [
    "#Add a different element\n",
    "x.add(5)"
   ]
  },
  {
   "cell_type": "code",
   "execution_count": 17,
   "id": "355723bb",
   "metadata": {},
   "outputs": [
    {
     "data": {
      "text/plain": [
       "{5, 'shri'}"
      ]
     },
     "execution_count": 17,
     "metadata": {},
     "output_type": "execute_result"
    }
   ],
   "source": [
    "#show\n",
    "x"
   ]
  },
  {
   "cell_type": "code",
   "execution_count": 18,
   "id": "c5b35a16",
   "metadata": {},
   "outputs": [],
   "source": [
    "# Try to add the same element\n",
    "x.add(5)"
   ]
  },
  {
   "cell_type": "code",
   "execution_count": 19,
   "id": "930b666b",
   "metadata": {},
   "outputs": [
    {
     "data": {
      "text/plain": [
       "{5, 'shri'}"
      ]
     },
     "execution_count": 19,
     "metadata": {},
     "output_type": "execute_result"
    }
   ],
   "source": [
    "#show\n",
    "x"
   ]
  },
  {
   "cell_type": "code",
   "execution_count": 20,
   "id": "25f60646",
   "metadata": {},
   "outputs": [],
   "source": [
    "#create a list with repeats\n",
    "l=['s','h','r','i','r','a','k','s','h','i']"
   ]
  },
  {
   "cell_type": "code",
   "execution_count": 21,
   "id": "afcb201c",
   "metadata": {},
   "outputs": [
    {
     "data": {
      "text/plain": [
       "{'a', 'h', 'i', 'k', 'r', 's'}"
      ]
     },
     "execution_count": 21,
     "metadata": {},
     "output_type": "execute_result"
    }
   ],
   "source": [
    "#Cast as set to get unique values\n",
    "set(l)"
   ]
  },
  {
   "cell_type": "markdown",
   "id": "ace6f6a3",
   "metadata": {},
   "source": [
    "# Dictionaries: \n",
    "### Constructing a dictionary"
   ]
  },
  {
   "cell_type": "code",
   "execution_count": 22,
   "id": "ad35e3d2",
   "metadata": {},
   "outputs": [],
   "source": [
    "#Make a dictionary with {} and : to signify a key and a value\n",
    "my_dict={'Key1':'value1','Key2':'value2'}"
   ]
  },
  {
   "cell_type": "code",
   "execution_count": 23,
   "id": "f712b330",
   "metadata": {},
   "outputs": [
    {
     "data": {
      "text/plain": [
       "{'Key1': 'value1', 'Key2': 'value2'}"
      ]
     },
     "execution_count": 23,
     "metadata": {},
     "output_type": "execute_result"
    }
   ],
   "source": [
    "#show \n",
    "my_dict"
   ]
  },
  {
   "cell_type": "code",
   "execution_count": 24,
   "id": "ea6e4a84",
   "metadata": {},
   "outputs": [],
   "source": [
    "dict={'name':'shri','state':'KARNATAKA','course':'python'}"
   ]
  },
  {
   "cell_type": "code",
   "execution_count": 25,
   "id": "6ddaf8a8",
   "metadata": {},
   "outputs": [
    {
     "data": {
      "text/plain": [
       "{'name': 'shri', 'state': 'KARNATAKA', 'course': 'python'}"
      ]
     },
     "execution_count": 25,
     "metadata": {},
     "output_type": "execute_result"
    }
   ],
   "source": [
    "dict"
   ]
  },
  {
   "cell_type": "code",
   "execution_count": 26,
   "id": "69690005",
   "metadata": {},
   "outputs": [
    {
     "data": {
      "text/plain": [
       "'python'"
      ]
     },
     "execution_count": 26,
     "metadata": {},
     "output_type": "execute_result"
    }
   ],
   "source": [
    "#call values by their key\n",
    "dict['course']"
   ]
  },
  {
   "cell_type": "code",
   "execution_count": 27,
   "id": "41e16e4b",
   "metadata": {},
   "outputs": [
    {
     "data": {
      "text/plain": [
       "'KARNATAKA'"
      ]
     },
     "execution_count": 27,
     "metadata": {},
     "output_type": "execute_result"
    }
   ],
   "source": [
    "dict['state']"
   ]
  },
  {
   "cell_type": "code",
   "execution_count": 28,
   "id": "f811fad4",
   "metadata": {},
   "outputs": [],
   "source": [
    "my_dict={'Key1':123,'Key2':[12,13,33],'Key3':['item0','item1','item2']}"
   ]
  },
  {
   "cell_type": "code",
   "execution_count": 29,
   "id": "f99f42c9",
   "metadata": {},
   "outputs": [
    {
     "data": {
      "text/plain": [
       "{'Key1': 123, 'Key2': [12, 13, 33], 'Key3': ['item0', 'item1', 'item2']}"
      ]
     },
     "execution_count": 29,
     "metadata": {},
     "output_type": "execute_result"
    }
   ],
   "source": [
    "my_dict"
   ]
  },
  {
   "cell_type": "code",
   "execution_count": 30,
   "id": "3a4fc879",
   "metadata": {},
   "outputs": [],
   "source": [
    "dict={'num0':123,'num1':[11,13,31],'name':['shri0','rak1','shi2']}"
   ]
  },
  {
   "cell_type": "code",
   "execution_count": 31,
   "id": "1001f257",
   "metadata": {},
   "outputs": [
    {
     "data": {
      "text/plain": [
       "{'num0': 123, 'num1': [11, 13, 31], 'name': ['shri0', 'rak1', 'shi2']}"
      ]
     },
     "execution_count": 31,
     "metadata": {},
     "output_type": "execute_result"
    }
   ],
   "source": [
    "#show\n",
    "dict"
   ]
  },
  {
   "cell_type": "code",
   "execution_count": 32,
   "id": "70658fa8",
   "metadata": {},
   "outputs": [
    {
     "data": {
      "text/plain": [
       "['shri0', 'rak1', 'shi2']"
      ]
     },
     "execution_count": 32,
     "metadata": {},
     "output_type": "execute_result"
    }
   ],
   "source": [
    "# Let's call items from the dictionary\n",
    "dict['name']"
   ]
  },
  {
   "cell_type": "code",
   "execution_count": 33,
   "id": "71346505",
   "metadata": {},
   "outputs": [
    {
     "data": {
      "text/plain": [
       "'shi2'"
      ]
     },
     "execution_count": 33,
     "metadata": {},
     "output_type": "execute_result"
    }
   ],
   "source": [
    "#Can call an index on that value\n",
    "dict['name'][2]"
   ]
  },
  {
   "cell_type": "code",
   "execution_count": 34,
   "id": "ea284206",
   "metadata": {},
   "outputs": [
    {
     "data": {
      "text/plain": [
       "'SHRI0'"
      ]
     },
     "execution_count": 34,
     "metadata": {},
     "output_type": "execute_result"
    }
   ],
   "source": [
    "#Can then even call methods on that value\n",
    "dict['name'][0].upper()"
   ]
  },
  {
   "cell_type": "code",
   "execution_count": 35,
   "id": "0d5b2c04",
   "metadata": {},
   "outputs": [
    {
     "data": {
      "text/plain": [
       "123"
      ]
     },
     "execution_count": 35,
     "metadata": {},
     "output_type": "execute_result"
    }
   ],
   "source": [
    "dict['num0']"
   ]
  },
  {
   "cell_type": "code",
   "execution_count": 36,
   "id": "2925f499",
   "metadata": {},
   "outputs": [],
   "source": [
    "#substract 123 from the value\n",
    "dict['num0']=dict['num0']-123"
   ]
  },
  {
   "cell_type": "code",
   "execution_count": 37,
   "id": "de633c70",
   "metadata": {},
   "outputs": [
    {
     "data": {
      "text/plain": [
       "0"
      ]
     },
     "execution_count": 37,
     "metadata": {},
     "output_type": "execute_result"
    }
   ],
   "source": [
    "#check\n",
    "dict['num0']"
   ]
  },
  {
   "cell_type": "code",
   "execution_count": 38,
   "id": "6bc6d9cb",
   "metadata": {},
   "outputs": [],
   "source": [
    "#set the object equal to itself minus 123\n",
    "dict['num0']-=123"
   ]
  },
  {
   "cell_type": "code",
   "execution_count": 39,
   "id": "e1dd1dc5",
   "metadata": {},
   "outputs": [
    {
     "data": {
      "text/plain": [
       "-123"
      ]
     },
     "execution_count": 39,
     "metadata": {},
     "output_type": "execute_result"
    }
   ],
   "source": [
    "dict['num0']"
   ]
  },
  {
   "cell_type": "code",
   "execution_count": 40,
   "id": "fc13a0e2",
   "metadata": {},
   "outputs": [],
   "source": [
    "#Create a dictionary\n",
    "d={}"
   ]
  },
  {
   "cell_type": "code",
   "execution_count": 41,
   "id": "ef6cc4bb",
   "metadata": {},
   "outputs": [],
   "source": [
    "#Creating new key through assignment\n",
    "d['animal']='cat'"
   ]
  },
  {
   "cell_type": "code",
   "execution_count": 42,
   "id": "a616faec",
   "metadata": {},
   "outputs": [],
   "source": [
    "#Can do this any object\n",
    "d['fruit']='apple'"
   ]
  },
  {
   "cell_type": "code",
   "execution_count": 43,
   "id": "70390944",
   "metadata": {},
   "outputs": [
    {
     "data": {
      "text/plain": [
       "{'animal': 'cat', 'fruit': 'apple'}"
      ]
     },
     "execution_count": 43,
     "metadata": {},
     "output_type": "execute_result"
    }
   ],
   "source": [
    "#show\n",
    "d"
   ]
  },
  {
   "cell_type": "markdown",
   "id": "fb730a6a",
   "metadata": {},
   "source": [
    "## Nesting with dictionaries"
   ]
  },
  {
   "cell_type": "code",
   "execution_count": 44,
   "id": "26061d09",
   "metadata": {},
   "outputs": [],
   "source": [
    "#Dictionary nested inside a dictionary nested in side a dictionary\n",
    "d={'Key1':{'nestkey':{'Subnestkey':'value'}}}"
   ]
  },
  {
   "cell_type": "code",
   "execution_count": 45,
   "id": "f609b9fe",
   "metadata": {},
   "outputs": [
    {
     "data": {
      "text/plain": [
       "'value'"
      ]
     },
     "execution_count": 45,
     "metadata": {},
     "output_type": "execute_result"
    }
   ],
   "source": [
    "#Keep calling the keys\n",
    "d['Key1']['nestkey']['Subnestkey']"
   ]
  },
  {
   "cell_type": "code",
   "execution_count": 46,
   "id": "9b85a759",
   "metadata": {},
   "outputs": [
    {
     "data": {
      "text/plain": [
       "{'nestkey': {'Subnestkey': 'value'}}"
      ]
     },
     "execution_count": 46,
     "metadata": {},
     "output_type": "execute_result"
    }
   ],
   "source": [
    "d['Key1']#['nestkey']['Subnestkey']"
   ]
  },
  {
   "cell_type": "code",
   "execution_count": 47,
   "id": "77a41e02",
   "metadata": {},
   "outputs": [
    {
     "data": {
      "text/plain": [
       "{'Subnestkey': 'value'}"
      ]
     },
     "execution_count": 47,
     "metadata": {},
     "output_type": "execute_result"
    }
   ],
   "source": [
    "d['Key1']['nestkey']#['Subnestkey']"
   ]
  },
  {
   "cell_type": "markdown",
   "id": "554d4cde",
   "metadata": {},
   "source": [
    "# A few dictionary methods"
   ]
  },
  {
   "cell_type": "code",
   "execution_count": 48,
   "id": "2354a6c8",
   "metadata": {},
   "outputs": [],
   "source": [
    "#Create a typical dictionary\n",
    "d={'key1':1,'key2':2,'key3':3}"
   ]
  },
  {
   "cell_type": "code",
   "execution_count": 49,
   "id": "a46f30be",
   "metadata": {},
   "outputs": [
    {
     "data": {
      "text/plain": [
       "{'key1': 1, 'key2': 2, 'key3': 3}"
      ]
     },
     "execution_count": 49,
     "metadata": {},
     "output_type": "execute_result"
    }
   ],
   "source": [
    "d"
   ]
  },
  {
   "cell_type": "code",
   "execution_count": 50,
   "id": "d3d7b082",
   "metadata": {},
   "outputs": [],
   "source": [
    "dt={'sub1':'maths','sub2':'kannada','sub3':'science'}"
   ]
  },
  {
   "cell_type": "code",
   "execution_count": 51,
   "id": "606f5b49",
   "metadata": {},
   "outputs": [
    {
     "data": {
      "text/plain": [
       "{'sub1': 'maths', 'sub2': 'kannada', 'sub3': 'science'}"
      ]
     },
     "execution_count": 51,
     "metadata": {},
     "output_type": "execute_result"
    }
   ],
   "source": [
    "dt"
   ]
  },
  {
   "cell_type": "code",
   "execution_count": 52,
   "id": "69b97bb9",
   "metadata": {},
   "outputs": [
    {
     "data": {
      "text/plain": [
       "dict_keys(['sub1', 'sub2', 'sub3'])"
      ]
     },
     "execution_count": 52,
     "metadata": {},
     "output_type": "execute_result"
    }
   ],
   "source": [
    "#Method to return a list of all keys\n",
    "dt.keys()"
   ]
  },
  {
   "cell_type": "code",
   "execution_count": 53,
   "id": "35d4873c",
   "metadata": {},
   "outputs": [
    {
     "data": {
      "text/plain": [
       "dict_values(['maths', 'kannada', 'science'])"
      ]
     },
     "execution_count": 53,
     "metadata": {},
     "output_type": "execute_result"
    }
   ],
   "source": [
    "#Method to grab all values\n",
    "dt.values()"
   ]
  },
  {
   "cell_type": "code",
   "execution_count": 54,
   "id": "ce1d496d",
   "metadata": {},
   "outputs": [
    {
     "data": {
      "text/plain": [
       "dict_items([('sub1', 'maths'), ('sub2', 'kannada'), ('sub3', 'science')])"
      ]
     },
     "execution_count": 54,
     "metadata": {},
     "output_type": "execute_result"
    }
   ],
   "source": [
    "#Method to return tuples of all items (we'll learn about tuples soon)\n",
    "dt.items()"
   ]
  },
  {
   "cell_type": "markdown",
   "id": "73242df7",
   "metadata": {},
   "source": [
    "## Dictionary comprehensions"
   ]
  },
  {
   "cell_type": "code",
   "execution_count": 55,
   "id": "7482e20a",
   "metadata": {},
   "outputs": [
    {
     "name": "stdout",
     "output_type": "stream",
     "text": [
      "[0, 1, 2, 3, 4, 5, 6, 7, 8, 9, 10]\n"
     ]
    }
   ],
   "source": [
    "print(list(range(11)))"
   ]
  },
  {
   "cell_type": "code",
   "execution_count": 56,
   "id": "a825373f",
   "metadata": {},
   "outputs": [
    {
     "data": {
      "text/plain": [
       "{0: 0, 1: 2, 2: 4, 3: 6, 4: 8, 5: 10, 6: 12, 7: 14, 8: 16, 9: 18, 10: 20}"
      ]
     },
     "execution_count": 56,
     "metadata": {},
     "output_type": "execute_result"
    }
   ],
   "source": [
    "{x:x*2 for x in range(11)}"
   ]
  },
  {
   "cell_type": "code",
   "execution_count": 57,
   "id": "0a91a4f7",
   "metadata": {},
   "outputs": [
    {
     "data": {
      "text/plain": [
       "{0: 0, 1: 1, 2: 4, 3: 9, 4: 16, 5: 25, 6: 36, 7: 49, 8: 64, 9: 81, 10: 100}"
      ]
     },
     "execution_count": 57,
     "metadata": {},
     "output_type": "execute_result"
    }
   ],
   "source": [
    "{x:x**2 for x in range(11)}"
   ]
  },
  {
   "cell_type": "markdown",
   "id": "0755e5df",
   "metadata": {},
   "source": [
    "# Functions\n",
    "## def Statements"
   ]
  },
  {
   "cell_type": "code",
   "execution_count": 58,
   "id": "ea855149",
   "metadata": {},
   "outputs": [],
   "source": [
    "def name_of_function(arg1,arg2):\n",
    "    \"This is where the function's Document string (doc_string) goes\"\n",
    "    # Do stuff here\n",
    "    #return desired result"
   ]
  },
  {
   "cell_type": "code",
   "execution_count": 59,
   "id": "d74b8dd8",
   "metadata": {},
   "outputs": [],
   "source": [
    "def say_hello():\n",
    "        print('hello')"
   ]
  },
  {
   "cell_type": "code",
   "execution_count": 60,
   "id": "84649025",
   "metadata": {},
   "outputs": [
    {
     "name": "stdout",
     "output_type": "stream",
     "text": [
      "hello\n"
     ]
    }
   ],
   "source": [
    "say_hello()"
   ]
  },
  {
   "cell_type": "code",
   "execution_count": 61,
   "id": "e324a859",
   "metadata": {},
   "outputs": [
    {
     "name": "stdout",
     "output_type": "stream",
     "text": [
      "Hello rakshi\n"
     ]
    }
   ],
   "source": [
    "def greeting(name):\n",
    "    print('Hello %s'%name)\n",
    "greeting('rakshi')"
   ]
  },
  {
   "cell_type": "code",
   "execution_count": 62,
   "id": "84b9ef34",
   "metadata": {},
   "outputs": [
    {
     "name": "stdout",
     "output_type": "stream",
     "text": [
      "Hello rakshi\n",
      "how are you doing rakshi\n"
     ]
    }
   ],
   "source": [
    "def greeting(name):\n",
    "    print('Hello %s'%name)\n",
    "    print('how are you doing %s'%name)\n",
    "greeting('rakshi')"
   ]
  },
  {
   "cell_type": "markdown",
   "id": "a76b3d5c",
   "metadata": {},
   "source": [
    "## Using return"
   ]
  },
  {
   "cell_type": "code",
   "execution_count": 63,
   "id": "94096a2e",
   "metadata": {},
   "outputs": [],
   "source": [
    "def add_num(num1,num2):\n",
    "    return num1+num2"
   ]
  },
  {
   "cell_type": "code",
   "execution_count": 64,
   "id": "87b30e19",
   "metadata": {},
   "outputs": [
    {
     "data": {
      "text/plain": [
       "5"
      ]
     },
     "execution_count": 64,
     "metadata": {},
     "output_type": "execute_result"
    }
   ],
   "source": [
    "add_num(3,2)"
   ]
  },
  {
   "cell_type": "code",
   "execution_count": 65,
   "id": "a17c8e04",
   "metadata": {},
   "outputs": [],
   "source": [
    "#can also save as variable due to return\n",
    "result=add_num(2,7)"
   ]
  },
  {
   "cell_type": "code",
   "execution_count": 66,
   "id": "3a7139a6",
   "metadata": {},
   "outputs": [
    {
     "name": "stdout",
     "output_type": "stream",
     "text": [
      "9\n"
     ]
    }
   ],
   "source": [
    "print(result)"
   ]
  },
  {
   "cell_type": "code",
   "execution_count": 67,
   "id": "fd1ace23",
   "metadata": {},
   "outputs": [
    {
     "name": "stdout",
     "output_type": "stream",
     "text": [
      "shri\trakshi\n"
     ]
    }
   ],
   "source": [
    "print(add_num('shri\\t','rakshi'))"
   ]
  },
  {
   "cell_type": "code",
   "execution_count": 68,
   "id": "943c4611",
   "metadata": {},
   "outputs": [
    {
     "name": "stdout",
     "output_type": "stream",
     "text": [
      "not prime\n"
     ]
    }
   ],
   "source": [
    "def is_prime(num):\n",
    "    \"naive method of checking for primes\"\n",
    "    for n in range(2,num):\n",
    "        if num%n==0:\n",
    "            print('not prime')\n",
    "            break\n",
    "        else:# If never mod zero,then prime\n",
    "            print('prime')\n",
    "is_prime(6)"
   ]
  },
  {
   "cell_type": "code",
   "execution_count": 69,
   "id": "79291c95",
   "metadata": {},
   "outputs": [
    {
     "name": "stdout",
     "output_type": "stream",
     "text": [
      "prime\n"
     ]
    }
   ],
   "source": [
    "def is_prime(num):\n",
    "    \"naive method of checking for primes\"\n",
    "    for n in range(2,num):\n",
    "        if num%n==0:\n",
    "            print('not prime')\n",
    "            break\n",
    "        else:# If never mod zero,then prime\n",
    "             print('prime')\n",
    "             break\n",
    "is_prime(11)"
   ]
  },
  {
   "cell_type": "code",
   "execution_count": 70,
   "id": "2f9f8392",
   "metadata": {},
   "outputs": [
    {
     "data": {
      "text/plain": [
       "True"
      ]
     },
     "execution_count": 70,
     "metadata": {},
     "output_type": "execute_result"
    }
   ],
   "source": [
    "import math\n",
    "def is_prime(num):\n",
    "    \" A Better method of checking for prime\"\n",
    "    if num%2==0 and num>2:\n",
    "        return False\n",
    "    for i in range(3,int(math.sqrt(num))+1,2):\n",
    "        if num%i==0:\n",
    "            return False\n",
    "        return True\n",
    "is_prime(11)    "
   ]
  },
  {
   "cell_type": "code",
   "execution_count": 71,
   "id": "58147b7e",
   "metadata": {},
   "outputs": [
    {
     "data": {
      "text/plain": [
       "False"
      ]
     },
     "execution_count": 71,
     "metadata": {},
     "output_type": "execute_result"
    }
   ],
   "source": [
    "import math\n",
    "def is_prime(num):\n",
    "    \" A Better method of checking for prime\"\n",
    "    if num%2==0 and num>2:\n",
    "        return False\n",
    "    for i in range(3,int(math.sqrt(num))+1,2):\n",
    "        if num%i==0:\n",
    "            return False\n",
    "        return True\n",
    "is_prime(10)    "
   ]
  },
  {
   "cell_type": "markdown",
   "id": "a9e990bb",
   "metadata": {},
   "source": [
    "## Iterator and Generator"
   ]
  },
  {
   "cell_type": "code",
   "execution_count": 72,
   "id": "289b481f",
   "metadata": {},
   "outputs": [],
   "source": [
    "#generate function for the cube of numbers(number of 3)\n",
    "def gencubes(n):\n",
    "    for num in range(n):\n",
    "        yield num**3\n"
   ]
  },
  {
   "cell_type": "code",
   "execution_count": 73,
   "id": "d9e1e3ae",
   "metadata": {},
   "outputs": [
    {
     "name": "stdout",
     "output_type": "stream",
     "text": [
      "0\n",
      "1\n",
      "8\n",
      "27\n",
      "64\n",
      "125\n",
      "216\n",
      "343\n",
      "512\n",
      "729\n",
      "1000\n"
     ]
    }
   ],
   "source": [
    "for x in gencubes(11):\n",
    "    print(x)"
   ]
  },
  {
   "cell_type": "code",
   "execution_count": 74,
   "id": "9523b49e",
   "metadata": {},
   "outputs": [
    {
     "name": "stdout",
     "output_type": "stream",
     "text": [
      "0\n",
      "1\n",
      "8\n",
      "27\n",
      "64\n",
      "125\n",
      "216\n",
      "343\n",
      "512\n",
      "729\n",
      "1000\n",
      "1331\n",
      "1728\n",
      "2197\n",
      "2744\n"
     ]
    }
   ],
   "source": [
    "for x in gencubes(15):\n",
    "    print(x)"
   ]
  },
  {
   "cell_type": "code",
   "execution_count": 75,
   "id": "d4e4b932",
   "metadata": {},
   "outputs": [],
   "source": [
    "def fibon(n):\n",
    "    a=1\n",
    "    b=1\n",
    "    output=[]\n",
    "    for i in range(n):\n",
    "        output.append(a)\n",
    "        a,b=b,a+b\n",
    "    return output"
   ]
  },
  {
   "cell_type": "code",
   "execution_count": 76,
   "id": "97ad0beb",
   "metadata": {},
   "outputs": [
    {
     "data": {
      "text/plain": [
       "[1, 1, 2, 3, 5, 8, 13, 21, 34, 55]"
      ]
     },
     "execution_count": 76,
     "metadata": {},
     "output_type": "execute_result"
    }
   ],
   "source": [
    "fibon(10)"
   ]
  },
  {
   "cell_type": "code",
   "execution_count": 77,
   "id": "fbbb8766",
   "metadata": {},
   "outputs": [
    {
     "data": {
      "text/plain": [
       "[1, 1, 2, 3, 5, 8, 13, 21, 34, 55, 89, 144, 233, 377, 610]"
      ]
     },
     "execution_count": 77,
     "metadata": {},
     "output_type": "execute_result"
    }
   ],
   "source": [
    "fibon(15)"
   ]
  },
  {
   "cell_type": "code",
   "execution_count": 79,
   "id": "d3012f1c",
   "metadata": {},
   "outputs": [
    {
     "data": {
      "text/plain": [
       "[1, 1, 2, 3, 5]"
      ]
     },
     "execution_count": 79,
     "metadata": {},
     "output_type": "execute_result"
    }
   ],
   "source": [
    "fibon(5)"
   ]
  },
  {
   "cell_type": "code",
   "execution_count": null,
   "id": "16125a89",
   "metadata": {},
   "outputs": [],
   "source": [
    "def genfibon(n):\n",
    "    \"Generate a fibonacci up to n\"\n",
    "    a=1\n",
    "    b=1\n",
    "    for i in range(n):\n",
    "        yeild a\n",
    "        a,b=b,a+b\n",
    "for num in generation(10):\n",
    "    print(num)"
   ]
  },
  {
   "cell_type": "markdown",
   "id": "ad161d6f",
   "metadata": {},
   "source": [
    "## next() and iter() built-in functions"
   ]
  },
  {
   "cell_type": "code",
   "execution_count": 118,
   "id": "0d2fe8b8",
   "metadata": {},
   "outputs": [
    {
     "name": "stdout",
     "output_type": "stream",
     "text": [
      "[0, 1, 2, 3, 4]\n"
     ]
    }
   ],
   "source": [
    "print(list(range(5)))"
   ]
  },
  {
   "cell_type": "code",
   "execution_count": 126,
   "id": "ad1d2e2c",
   "metadata": {},
   "outputs": [
    {
     "name": "stdout",
     "output_type": "stream",
     "text": [
      "s\n",
      "h\n",
      "r\n",
      "i\n"
     ]
    }
   ],
   "source": [
    "s='shri'\n",
    "#Iterate over string\n",
    "for let in s:\n",
    "    print(let)\n",
    "    "
   ]
  },
  {
   "cell_type": "code",
   "execution_count": 127,
   "id": "bdeafcb6",
   "metadata": {},
   "outputs": [
    {
     "ename": "TypeError",
     "evalue": "'str' object is not an iterator",
     "output_type": "error",
     "traceback": [
      "\u001b[1;31m---------------------------------------------------------------------------\u001b[0m",
      "\u001b[1;31mTypeError\u001b[0m                                 Traceback (most recent call last)",
      "\u001b[1;32mC:\\Users\\GIRISH~1\\AppData\\Local\\Temp/ipykernel_18168/1977886155.py\u001b[0m in \u001b[0;36m<module>\u001b[1;34m\u001b[0m\n\u001b[1;32m----> 1\u001b[1;33m \u001b[0mnext\u001b[0m\u001b[1;33m(\u001b[0m\u001b[0ms\u001b[0m\u001b[1;33m)\u001b[0m\u001b[1;33m\u001b[0m\u001b[1;33m\u001b[0m\u001b[0m\n\u001b[0m",
      "\u001b[1;31mTypeError\u001b[0m: 'str' object is not an iterator"
     ]
    }
   ],
   "source": [
    "next(s)"
   ]
  },
  {
   "cell_type": "code",
   "execution_count": 129,
   "id": "06a0554f",
   "metadata": {},
   "outputs": [],
   "source": [
    "s_iter=iter(s)"
   ]
  },
  {
   "cell_type": "code",
   "execution_count": 130,
   "id": "ae92b6c0",
   "metadata": {},
   "outputs": [
    {
     "data": {
      "text/plain": [
       "'s'"
      ]
     },
     "execution_count": 130,
     "metadata": {},
     "output_type": "execute_result"
    }
   ],
   "source": [
    "next(s_iter)"
   ]
  },
  {
   "cell_type": "code",
   "execution_count": 131,
   "id": "3590e563",
   "metadata": {},
   "outputs": [
    {
     "data": {
      "text/plain": [
       "'h'"
      ]
     },
     "execution_count": 131,
     "metadata": {},
     "output_type": "execute_result"
    }
   ],
   "source": [
    "next(s_iter)"
   ]
  },
  {
   "cell_type": "code",
   "execution_count": 132,
   "id": "0d49b7e6",
   "metadata": {},
   "outputs": [
    {
     "data": {
      "text/plain": [
       "'r'"
      ]
     },
     "execution_count": 132,
     "metadata": {},
     "output_type": "execute_result"
    }
   ],
   "source": [
    "next(s_iter)"
   ]
  },
  {
   "cell_type": "code",
   "execution_count": 133,
   "id": "b776536d",
   "metadata": {},
   "outputs": [
    {
     "data": {
      "text/plain": [
       "'i'"
      ]
     },
     "execution_count": 133,
     "metadata": {},
     "output_type": "execute_result"
    }
   ],
   "source": [
    "next(s_iter)"
   ]
  },
  {
   "cell_type": "markdown",
   "id": "72eb5e73",
   "metadata": {},
   "source": [
    "## map()"
   ]
  },
  {
   "cell_type": "code",
   "execution_count": 139,
   "id": "2a1443b7",
   "metadata": {},
   "outputs": [],
   "source": [
    "def fahrenheit(T):\n",
    "    return((float(9)/5)*T+32)\n",
    "def Celsius(T):\n",
    "    return(float (5)/9)*(T-32)\n",
    "temp=[0,22.5,40,100]"
   ]
  },
  {
   "cell_type": "code",
   "execution_count": 140,
   "id": "94cd1d6d",
   "metadata": {},
   "outputs": [],
   "source": [
    "F_temps=list(map(fahrenheit,temp))"
   ]
  },
  {
   "cell_type": "code",
   "execution_count": 141,
   "id": "8089155b",
   "metadata": {},
   "outputs": [
    {
     "data": {
      "text/plain": [
       "[32.0, 72.5, 104.0, 212.0]"
      ]
     },
     "execution_count": 141,
     "metadata": {},
     "output_type": "execute_result"
    }
   ],
   "source": [
    "#show\n",
    "F_temps"
   ]
  },
  {
   "cell_type": "code",
   "execution_count": 143,
   "id": "328be30b",
   "metadata": {},
   "outputs": [
    {
     "data": {
      "text/plain": [
       "[0.0, 22.5, 40.0, 100.0]"
      ]
     },
     "execution_count": 143,
     "metadata": {},
     "output_type": "execute_result"
    }
   ],
   "source": [
    "#convert back\n",
    "list(map(Celsius,F_temps))"
   ]
  },
  {
   "cell_type": "code",
   "execution_count": 144,
   "id": "70d28c5a",
   "metadata": {},
   "outputs": [
    {
     "data": {
      "text/plain": [
       "[0.0, 22.5, 40.0, 100.0]"
      ]
     },
     "execution_count": 144,
     "metadata": {},
     "output_type": "execute_result"
    }
   ],
   "source": [
    "list(map(lambda x:(5.0/9)*(x-32),F_temps))"
   ]
  },
  {
   "cell_type": "code",
   "execution_count": 145,
   "id": "2a07e421",
   "metadata": {},
   "outputs": [
    {
     "data": {
      "text/plain": [
       "[6, 8, 10, 12]"
      ]
     },
     "execution_count": 145,
     "metadata": {},
     "output_type": "execute_result"
    }
   ],
   "source": [
    "a=[1,2,3,4]\n",
    "b=[5,6,7,8]\n",
    "c=[9,10,11,12]\n",
    "list(map(lambda x,y:x+y,a,b))"
   ]
  },
  {
   "cell_type": "code",
   "execution_count": 146,
   "id": "d8028556",
   "metadata": {},
   "outputs": [
    {
     "data": {
      "text/plain": [
       "[15, 18, 21, 24]"
      ]
     },
     "execution_count": 146,
     "metadata": {},
     "output_type": "execute_result"
    }
   ],
   "source": [
    "#Now all three lists\n",
    "list(map(lambda x,y,z:x+y+z,a,b,c))"
   ]
  },
  {
   "cell_type": "markdown",
   "id": "18fcbe35",
   "metadata": {},
   "source": [
    "## reduce() "
   ]
  },
  {
   "cell_type": "code",
   "execution_count": 150,
   "id": "2b4592c3",
   "metadata": {},
   "outputs": [
    {
     "data": {
      "text/plain": [
       "70"
      ]
     },
     "execution_count": 150,
     "metadata": {},
     "output_type": "execute_result"
    }
   ],
   "source": [
    "from functools import reduce\n",
    "lst=[4,11,42,13]\n",
    "reduce(lambda x,y:x+y,lst)"
   ]
  },
  {
   "cell_type": "code",
   "execution_count": 163,
   "id": "bd6f75ce",
   "metadata": {},
   "outputs": [
    {
     "data": {
      "text/plain": [
       "162"
      ]
     },
     "execution_count": 163,
     "metadata": {},
     "output_type": "execute_result"
    }
   ],
   "source": [
    "from functools import reduce\n",
    "lst=[47,11,42,62]\n",
    "reduce(lambda x,y:x+y,lst)"
   ]
  },
  {
   "cell_type": "code",
   "execution_count": 164,
   "id": "d718af1a",
   "metadata": {},
   "outputs": [],
   "source": [
    "#Find the maximum of a sequence(this already exists as max())\n",
    "max_find=lambda a,b:a if(a>b)else b"
   ]
  },
  {
   "cell_type": "code",
   "execution_count": 165,
   "id": "1d86b935",
   "metadata": {},
   "outputs": [
    {
     "data": {
      "text/plain": [
       "62"
      ]
     },
     "execution_count": 165,
     "metadata": {},
     "output_type": "execute_result"
    }
   ],
   "source": [
    "#Find max\n",
    "reduce(max_find,lst)"
   ]
  },
  {
   "cell_type": "code",
   "execution_count": 166,
   "id": "50f06ca1",
   "metadata": {},
   "outputs": [
    {
     "name": "stdout",
     "output_type": "stream",
     "text": [
      "[47, 11, 42, 62]\n"
     ]
    }
   ],
   "source": [
    "print(lst)"
   ]
  },
  {
   "cell_type": "markdown",
   "id": "da68f000",
   "metadata": {},
   "source": [
    "## filter:"
   ]
  },
  {
   "cell_type": "code",
   "execution_count": 184,
   "id": "2d5f1b1d",
   "metadata": {},
   "outputs": [
    {
     "data": {
      "text/plain": [
       "[0, 2, 4, 6, 8, 10, 12, 14, 16, 18, 20, 22, 24, 26, 28]"
      ]
     },
     "execution_count": 184,
     "metadata": {},
     "output_type": "execute_result"
    }
   ],
   "source": [
    "#First let's make a function\n",
    "def even_check(num):\n",
    "    if num%2==0:\n",
    "        return True\n",
    "lst=range(30)\n",
    "list(filter(even_check,lst))\n",
    "    "
   ]
  },
  {
   "cell_type": "code",
   "execution_count": 189,
   "id": "04ee8667",
   "metadata": {},
   "outputs": [
    {
     "data": {
      "text/plain": [
       "[0, 2, 4, 6, 8, 10, 12, 14, 16, 18, 20, 22, 24, 26, 28]"
      ]
     },
     "execution_count": 189,
     "metadata": {},
     "output_type": "execute_result"
    }
   ],
   "source": [
    "list(filter(lambda x:x%2==0,lst))"
   ]
  },
  {
   "cell_type": "code",
   "execution_count": null,
   "id": "5bd75759",
   "metadata": {},
   "outputs": [],
   "source": []
  },
  {
   "cell_type": "code",
   "execution_count": null,
   "id": "1c691d82",
   "metadata": {},
   "outputs": [],
   "source": []
  },
  {
   "cell_type": "code",
   "execution_count": null,
   "id": "00f20221",
   "metadata": {},
   "outputs": [],
   "source": []
  }
 ],
 "metadata": {
  "kernelspec": {
   "display_name": "Python 3 (ipykernel)",
   "language": "python",
   "name": "python3"
  },
  "language_info": {
   "codemirror_mode": {
    "name": "ipython",
    "version": 3
   },
   "file_extension": ".py",
   "mimetype": "text/x-python",
   "name": "python",
   "nbconvert_exporter": "python",
   "pygments_lexer": "ipython3",
   "version": "3.9.6"
  }
 },
 "nbformat": 4,
 "nbformat_minor": 5
}
