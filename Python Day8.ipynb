{
 "cells": [
  {
   "cell_type": "markdown",
   "id": "216d213e",
   "metadata": {},
   "source": [
    "## Modules and Packages "
   ]
  },
  {
   "cell_type": "code",
   "execution_count": 1,
   "id": "499cc3fc",
   "metadata": {},
   "outputs": [],
   "source": [
    "#import the library \n",
    "import math"
   ]
  },
  {
   "cell_type": "code",
   "execution_count": 3,
   "id": "76313ecb",
   "metadata": {},
   "outputs": [
    {
     "data": {
      "text/plain": [
       "3"
      ]
     },
     "execution_count": 3,
     "metadata": {},
     "output_type": "execute_result"
    }
   ],
   "source": [
    "#use it(ceiling rounding)\n",
    "math.ceil(2.4)"
   ]
  },
  {
   "cell_type": "code",
   "execution_count": 4,
   "id": "f72fbf55",
   "metadata": {},
   "outputs": [
    {
     "data": {
      "text/plain": [
       "2"
      ]
     },
     "execution_count": 4,
     "metadata": {},
     "output_type": "execute_result"
    }
   ],
   "source": [
    "math.floor(2.4)"
   ]
  },
  {
   "cell_type": "code",
   "execution_count": 5,
   "id": "0f5ecfbd",
   "metadata": {},
   "outputs": [
    {
     "data": {
      "text/plain": [
       "6"
      ]
     },
     "execution_count": 5,
     "metadata": {},
     "output_type": "execute_result"
    }
   ],
   "source": [
    "math.ceil(5.6)"
   ]
  },
  {
   "cell_type": "code",
   "execution_count": 6,
   "id": "7093c728",
   "metadata": {},
   "outputs": [
    {
     "data": {
      "text/plain": [
       "9"
      ]
     },
     "execution_count": 6,
     "metadata": {},
     "output_type": "execute_result"
    }
   ],
   "source": [
    "math.floor(9.2)"
   ]
  },
  {
   "cell_type": "markdown",
   "id": "68c58f0e",
   "metadata": {},
   "source": [
    "## Exploring built-in Modules "
   ]
  },
  {
   "cell_type": "code",
   "execution_count": 7,
   "id": "a33b5dc3",
   "metadata": {},
   "outputs": [
    {
     "name": "stdout",
     "output_type": "stream",
     "text": [
      "['__doc__', '__loader__', '__name__', '__package__', '__spec__', 'acos', 'acosh', 'asin', 'asinh', 'atan', 'atan2', 'atanh', 'ceil', 'comb', 'copysign', 'cos', 'cosh', 'degrees', 'dist', 'e', 'erf', 'erfc', 'exp', 'expm1', 'fabs', 'factorial', 'floor', 'fmod', 'frexp', 'fsum', 'gamma', 'gcd', 'hypot', 'inf', 'isclose', 'isfinite', 'isinf', 'isnan', 'isqrt', 'lcm', 'ldexp', 'lgamma', 'log', 'log10', 'log1p', 'log2', 'modf', 'nan', 'nextafter', 'perm', 'pi', 'pow', 'prod', 'radians', 'remainder', 'sin', 'sinh', 'sqrt', 'tan', 'tanh', 'tau', 'trunc', 'ulp']\n"
     ]
    }
   ],
   "source": [
    "print(dir(math))"
   ]
  },
  {
   "cell_type": "code",
   "execution_count": 9,
   "id": "e0a11375",
   "metadata": {},
   "outputs": [
    {
     "name": "stdout",
     "output_type": "stream",
     "text": [
      "Help on built-in function ceil in module math:\n",
      "\n",
      "ceil(x, /)\n",
      "    Return the ceiling of x as an Integral.\n",
      "    \n",
      "    This is the smallest integer >= x.\n",
      "\n"
     ]
    }
   ],
   "source": [
    "help(math.ceil)"
   ]
  },
  {
   "cell_type": "markdown",
   "id": "dd3785b3",
   "metadata": {},
   "source": [
    "## Writing Packages "
   ]
  },
  {
   "cell_type": "code",
   "execution_count": 10,
   "id": "3145be45",
   "metadata": {},
   "outputs": [
    {
     "ename": "ModuleNotFoundError",
     "evalue": "No module named 'foo'",
     "output_type": "error",
     "traceback": [
      "\u001b[1;31m---------------------------------------------------------------------------\u001b[0m",
      "\u001b[1;31mModuleNotFoundError\u001b[0m                       Traceback (most recent call last)",
      "\u001b[1;32mC:\\Users\\GIRISH~1\\AppData\\Local\\Temp/ipykernel_5880/2730890282.py\u001b[0m in \u001b[0;36m<module>\u001b[1;34m\u001b[0m\n\u001b[0;32m      1\u001b[0m \u001b[1;31m#just an example,this won't work\u001b[0m\u001b[1;33m\u001b[0m\u001b[1;33m\u001b[0m\u001b[1;33m\u001b[0m\u001b[0m\n\u001b[1;32m----> 2\u001b[1;33m \u001b[1;32mimport\u001b[0m \u001b[0mfoo\u001b[0m\u001b[1;33m.\u001b[0m\u001b[0mbar\u001b[0m\u001b[1;33m\u001b[0m\u001b[1;33m\u001b[0m\u001b[0m\n\u001b[0m",
      "\u001b[1;31mModuleNotFoundError\u001b[0m: No module named 'foo'"
     ]
    }
   ],
   "source": [
    "#just an example,this won't work\n",
    "import foo.bar"
   ]
  },
  {
   "cell_type": "code",
   "execution_count": 11,
   "id": "73946cb3",
   "metadata": {},
   "outputs": [
    {
     "ename": "ModuleNotFoundError",
     "evalue": "No module named 'foo'",
     "output_type": "error",
     "traceback": [
      "\u001b[1;31m---------------------------------------------------------------------------\u001b[0m",
      "\u001b[1;31mModuleNotFoundError\u001b[0m                       Traceback (most recent call last)",
      "\u001b[1;32mC:\\Users\\GIRISH~1\\AppData\\Local\\Temp/ipykernel_5880/3093128457.py\u001b[0m in \u001b[0;36m<module>\u001b[1;34m\u001b[0m\n\u001b[0;32m      1\u001b[0m \u001b[1;31m#OR could do it this way\u001b[0m\u001b[1;33m\u001b[0m\u001b[1;33m\u001b[0m\u001b[1;33m\u001b[0m\u001b[0m\n\u001b[1;32m----> 2\u001b[1;33m \u001b[1;32mfrom\u001b[0m \u001b[0mfoo\u001b[0m \u001b[1;32mimport\u001b[0m \u001b[0mbar\u001b[0m\u001b[1;33m\u001b[0m\u001b[1;33m\u001b[0m\u001b[0m\n\u001b[0m",
      "\u001b[1;31mModuleNotFoundError\u001b[0m: No module named 'foo'"
     ]
    }
   ],
   "source": [
    "#OR could do it this way\n",
    "from foo import bar"
   ]
  },
  {
   "cell_type": "code",
   "execution_count": 17,
   "id": "00d59ac8",
   "metadata": {},
   "outputs": [
    {
     "ename": "NameError",
     "evalue": "name '__init__' is not defined",
     "output_type": "error",
     "traceback": [
      "\u001b[1;31m---------------------------------------------------------------------------\u001b[0m",
      "\u001b[1;31mNameError\u001b[0m                                 Traceback (most recent call last)",
      "\u001b[1;32mC:\\Users\\GIRISH~1\\AppData\\Local\\Temp/ipykernel_5880/1581051766.py\u001b[0m in \u001b[0;36m<module>\u001b[1;34m\u001b[0m\n\u001b[1;32m----> 1\u001b[1;33m \u001b[0m__init__\u001b[0m\u001b[1;33m.\u001b[0m\u001b[0mpy\u001b[0m\u001b[1;33m\u001b[0m\u001b[1;33m\u001b[0m\u001b[0m\n\u001b[0m\u001b[0;32m      2\u001b[0m \u001b[0m__all__\u001b[0m\u001b[1;33m=\u001b[0m\u001b[1;33m[\u001b[0m\u001b[1;34m\"bar\"\u001b[0m\u001b[1;33m]\u001b[0m\u001b[1;33m\u001b[0m\u001b[1;33m\u001b[0m\u001b[0m\n",
      "\u001b[1;31mNameError\u001b[0m: name '__init__' is not defined"
     ]
    }
   ],
   "source": [
    "__init__.py\n",
    "__all__=[\"bar\"]"
   ]
  },
  {
   "cell_type": "markdown",
   "id": "5b207c65",
   "metadata": {},
   "source": [
    "## Errors and Exception handling "
   ]
  },
  {
   "cell_type": "code",
   "execution_count": 19,
   "id": "9abc6f5e",
   "metadata": {},
   "outputs": [
    {
     "ename": "SyntaxError",
     "evalue": "EOL while scanning string literal (Temp/ipykernel_5880/2149988476.py, line 1)",
     "output_type": "error",
     "traceback": [
      "\u001b[1;36m  File \u001b[1;32m\"C:\\Users\\GIRISH~1\\AppData\\Local\\Temp/ipykernel_5880/2149988476.py\"\u001b[1;36m, line \u001b[1;32m1\u001b[0m\n\u001b[1;33m    print(\"hello)\u001b[0m\n\u001b[1;37m                 ^\u001b[0m\n\u001b[1;31mSyntaxError\u001b[0m\u001b[1;31m:\u001b[0m EOL while scanning string literal\n"
     ]
    }
   ],
   "source": [
    "print(\"hello)"
   ]
  },
  {
   "cell_type": "markdown",
   "id": "0716d826",
   "metadata": {},
   "source": [
    "## try and except "
   ]
  },
  {
   "cell_type": "code",
   "execution_count": 36,
   "id": "95cd936d",
   "metadata": {},
   "outputs": [
    {
     "name": "stdout",
     "output_type": "stream",
     "text": [
      "Content written successfully\n"
     ]
    }
   ],
   "source": [
    "try:\n",
    "    f=open('test','w')\n",
    "    f.write('Test write this')\n",
    "except IOError:\n",
    "     # This will only check for an IOError exception and then execute this print statement\n",
    "        print(\"Error:could not find file or read data\")\n",
    "else:\n",
    "        print(\"Content written successfully\")\n",
    "        f.close()"
   ]
  },
  {
   "cell_type": "code",
   "execution_count": 37,
   "id": "8d744a26",
   "metadata": {},
   "outputs": [
    {
     "name": "stdout",
     "output_type": "stream",
     "text": [
      "Error:could not find file or read data\n"
     ]
    }
   ],
   "source": [
    "try:\n",
    "    f=open('test','r')\n",
    "    f.write('Test write this')\n",
    "except IOError:\n",
    "     # This will only check for an IOError exception and then execute this print statement\n",
    "        print(\"Error:could not find file or read data\")\n",
    "else:\n",
    "        print(\"Content written successfully\")\n",
    "        f.close()"
   ]
  },
  {
   "cell_type": "code",
   "execution_count": 38,
   "id": "5ae2929c",
   "metadata": {},
   "outputs": [
    {
     "name": "stdout",
     "output_type": "stream",
     "text": [
      "Content written successfully\n"
     ]
    }
   ],
   "source": [
    "try:\n",
    "    f=open('test','w')\n",
    "    f.write('Test write this')\n",
    "except IOError:\n",
    "     # This will only check for an IOError exception and then execute this print statement\n",
    "        print(\"Error:could not find file or read data\")\n",
    "else:\n",
    "        print(\"Content written successfully\")\n",
    "        f.close()"
   ]
  },
  {
   "cell_type": "code",
   "execution_count": 39,
   "id": "3dd57faf",
   "metadata": {},
   "outputs": [
    {
     "name": "stdout",
     "output_type": "stream",
     "text": [
      "Always execute finally code blocks\n"
     ]
    }
   ],
   "source": [
    "try:\n",
    "    f=open('testfile','w')\n",
    "    f.write('Test write this')\n",
    "finally:\n",
    "    print(\"Always execute finally code blocks\")"
   ]
  },
  {
   "cell_type": "code",
   "execution_count": 41,
   "id": "3b9aa060",
   "metadata": {},
   "outputs": [],
   "source": [
    "def askin():\n",
    "    try:\n",
    "        val=int(input(\"Please enter an inteteger:\"))\n",
    "    except:\n",
    "        print(\"look like you did not enter an integer:\")\n",
    "    finally:\n",
    "        print(\"Finally, I executed:\")\n",
    "        print(val)"
   ]
  },
  {
   "cell_type": "code",
   "execution_count": 44,
   "id": "a817ee75",
   "metadata": {},
   "outputs": [
    {
     "name": "stdout",
     "output_type": "stream",
     "text": [
      "Please enter an inteteger:shri\n",
      "look like you did not enter an integer:\n",
      "Finally, I executed:\n"
     ]
    },
    {
     "ename": "UnboundLocalError",
     "evalue": "local variable 'val' referenced before assignment",
     "output_type": "error",
     "traceback": [
      "\u001b[1;31m---------------------------------------------------------------------------\u001b[0m",
      "\u001b[1;31mUnboundLocalError\u001b[0m                         Traceback (most recent call last)",
      "\u001b[1;32mC:\\Users\\GIRISH~1\\AppData\\Local\\Temp/ipykernel_5880/397707903.py\u001b[0m in \u001b[0;36m<module>\u001b[1;34m\u001b[0m\n\u001b[1;32m----> 1\u001b[1;33m \u001b[0maskin\u001b[0m\u001b[1;33m(\u001b[0m\u001b[1;33m)\u001b[0m\u001b[1;33m\u001b[0m\u001b[1;33m\u001b[0m\u001b[0m\n\u001b[0m",
      "\u001b[1;32mC:\\Users\\GIRISH~1\\AppData\\Local\\Temp/ipykernel_5880/1414934809.py\u001b[0m in \u001b[0;36maskin\u001b[1;34m()\u001b[0m\n\u001b[0;32m      6\u001b[0m     \u001b[1;32mfinally\u001b[0m\u001b[1;33m:\u001b[0m\u001b[1;33m\u001b[0m\u001b[1;33m\u001b[0m\u001b[0m\n\u001b[0;32m      7\u001b[0m         \u001b[0mprint\u001b[0m\u001b[1;33m(\u001b[0m\u001b[1;34m\"Finally, I executed:\"\u001b[0m\u001b[1;33m)\u001b[0m\u001b[1;33m\u001b[0m\u001b[1;33m\u001b[0m\u001b[0m\n\u001b[1;32m----> 8\u001b[1;33m         \u001b[0mprint\u001b[0m\u001b[1;33m(\u001b[0m\u001b[0mval\u001b[0m\u001b[1;33m)\u001b[0m\u001b[1;33m\u001b[0m\u001b[1;33m\u001b[0m\u001b[0m\n\u001b[0m",
      "\u001b[1;31mUnboundLocalError\u001b[0m: local variable 'val' referenced before assignment"
     ]
    }
   ],
   "source": [
    "askin()"
   ]
  },
  {
   "cell_type": "code",
   "execution_count": 45,
   "id": "5d69ae4c",
   "metadata": {},
   "outputs": [
    {
     "name": "stdout",
     "output_type": "stream",
     "text": [
      "Please enter an inteteger:123\n",
      "Finally, I executed:\n",
      "123\n"
     ]
    }
   ],
   "source": [
    "askin()"
   ]
  },
  {
   "cell_type": "code",
   "execution_count": 46,
   "id": "7483438c",
   "metadata": {},
   "outputs": [
    {
     "name": "stdout",
     "output_type": "stream",
     "text": [
      "Please enter an inteteger:rakshi\n",
      "look like you did not enter an integer:\n",
      "Finally, I executed:\n"
     ]
    },
    {
     "ename": "UnboundLocalError",
     "evalue": "local variable 'val' referenced before assignment",
     "output_type": "error",
     "traceback": [
      "\u001b[1;31m---------------------------------------------------------------------------\u001b[0m",
      "\u001b[1;31mUnboundLocalError\u001b[0m                         Traceback (most recent call last)",
      "\u001b[1;32mC:\\Users\\GIRISH~1\\AppData\\Local\\Temp/ipykernel_5880/397707903.py\u001b[0m in \u001b[0;36m<module>\u001b[1;34m\u001b[0m\n\u001b[1;32m----> 1\u001b[1;33m \u001b[0maskin\u001b[0m\u001b[1;33m(\u001b[0m\u001b[1;33m)\u001b[0m\u001b[1;33m\u001b[0m\u001b[1;33m\u001b[0m\u001b[0m\n\u001b[0m",
      "\u001b[1;32mC:\\Users\\GIRISH~1\\AppData\\Local\\Temp/ipykernel_5880/1414934809.py\u001b[0m in \u001b[0;36maskin\u001b[1;34m()\u001b[0m\n\u001b[0;32m      6\u001b[0m     \u001b[1;32mfinally\u001b[0m\u001b[1;33m:\u001b[0m\u001b[1;33m\u001b[0m\u001b[1;33m\u001b[0m\u001b[0m\n\u001b[0;32m      7\u001b[0m         \u001b[0mprint\u001b[0m\u001b[1;33m(\u001b[0m\u001b[1;34m\"Finally, I executed:\"\u001b[0m\u001b[1;33m)\u001b[0m\u001b[1;33m\u001b[0m\u001b[1;33m\u001b[0m\u001b[0m\n\u001b[1;32m----> 8\u001b[1;33m         \u001b[0mprint\u001b[0m\u001b[1;33m(\u001b[0m\u001b[0mval\u001b[0m\u001b[1;33m)\u001b[0m\u001b[1;33m\u001b[0m\u001b[1;33m\u001b[0m\u001b[0m\n\u001b[0m",
      "\u001b[1;31mUnboundLocalError\u001b[0m: local variable 'val' referenced before assignment"
     ]
    }
   ],
   "source": [
    "askin()"
   ]
  },
  {
   "cell_type": "code",
   "execution_count": 8,
   "id": "ddc018b8",
   "metadata": {},
   "outputs": [],
   "source": [
    "def askin():\n",
    "    while True:\n",
    "        try:\n",
    "            val=int(input(\"Please enter an inteteger:\"))\n",
    "        except:\n",
    "            print(\"look like you did not enter an integer:\")\n",
    "            continue\n",
    "        else:\n",
    "            print(\"yep that's an integer!\")\n",
    "            break\n",
    "        finally:\n",
    "            print(\"Finally, I executed:\")\n",
    "        print(val)"
   ]
  },
  {
   "cell_type": "code",
   "execution_count": 9,
   "id": "ada58c8d",
   "metadata": {},
   "outputs": [
    {
     "name": "stdout",
     "output_type": "stream",
     "text": [
      "Please enter an inteteger:shri\n",
      "look like you did not enter an integer:\n",
      "Finally, I executed:\n",
      "Please enter an inteteger:shree\n",
      "look like you did not enter an integer:\n",
      "Finally, I executed:\n",
      "Please enter an inteteger:rakshi\n",
      "look like you did not enter an integer:\n",
      "Finally, I executed:\n",
      "Please enter an inteteger:shr123\n",
      "look like you did not enter an integer:\n",
      "Finally, I executed:\n",
      "Please enter an inteteger:234shri\n",
      "look like you did not enter an integer:\n",
      "Finally, I executed:\n",
      "Please enter an inteteger:\n",
      "look like you did not enter an integer:\n",
      "Finally, I executed:\n",
      "Please enter an inteteger:856\n",
      "yep that's an integer!\n",
      "Finally, I executed:\n"
     ]
    }
   ],
   "source": [
    "askin()"
   ]
  },
  {
   "cell_type": "markdown",
   "id": "f606be4d",
   "metadata": {},
   "source": [
    "## Database connectivity and operations using python "
   ]
  },
  {
   "cell_type": "code",
   "execution_count": 19,
   "id": "a80db39c",
   "metadata": {},
   "outputs": [
    {
     "data": {
      "text/plain": [
       "<sqlite3.Cursor at 0x1fa4c4ed6c0>"
      ]
     },
     "execution_count": 19,
     "metadata": {},
     "output_type": "execute_result"
    }
   ],
   "source": [
    "#!/usr/bin/python\n",
    "import sqlite3\n",
    "#Connectivity with the database\n",
    "db=sqlite3.connect(\"my_database1.db\")\n",
    "#Drop table if it already exit using execute()\n",
    "db.execute(\"drop table if exists grades1\")\n",
    "#create table as per requirement\n",
    "db.execute(\"create table grades1(id int,name txt,score int)\")\n",
    "#inserting values inside the created table\n",
    "db.execute(\"insert into grades1(id,name,score)values(201,'shri',56)\")\n",
    "db.execute(\"insert into grades1(id,name,score)values(202,'shree',45)\")\n",
    "db.execute(\"insert into grades1(id,name,score)values(203,'shravya',43)\")\n",
    "db.execute(\"insert into grades1(id,name,score)values(204,'shreya',36)\")\n",
    "db.execute(\"insert into grades1(id,name,score)values(205,'rakshi',34)\")"
   ]
  },
  {
   "cell_type": "code",
   "execution_count": 20,
   "id": "db06b705",
   "metadata": {},
   "outputs": [],
   "source": [
    "db.commit()"
   ]
  },
  {
   "cell_type": "code",
   "execution_count": 24,
   "id": "6ca039cf",
   "metadata": {},
   "outputs": [
    {
     "name": "stdout",
     "output_type": "stream",
     "text": [
      "(201, 'shri', 56)\n",
      "(202, 'shree', 45)\n",
      "(203, 'shravya', 43)\n",
      "(204, 'shreya', 36)\n",
      "(205, 'rakshi', 34)\n",
      "____________________________________________________________\n"
     ]
    }
   ],
   "source": [
    "results=db.execute(\"Select * from grades1 order by id\")\n",
    "for row in results:\n",
    "    print(row)\n",
    "print(\"_\" *60)"
   ]
  },
  {
   "cell_type": "code",
   "execution_count": 25,
   "id": "36a5140a",
   "metadata": {},
   "outputs": [
    {
     "name": "stdout",
     "output_type": "stream",
     "text": [
      "(202, 'shree', 45)\n",
      "____________________________________________________________\n"
     ]
    }
   ],
   "source": [
    "results=db.execute(\"Select * from grades1 where name='shree'\")\n",
    "for row in results:\n",
    "    print(row)\n",
    "print(\"_\" *60)"
   ]
  },
  {
   "cell_type": "code",
   "execution_count": 28,
   "id": "89b5b47b",
   "metadata": {},
   "outputs": [
    {
     "name": "stdout",
     "output_type": "stream",
     "text": [
      "(201, 'shri', 56)\n",
      "(202, 'shree', 45)\n",
      "(203, 'shravya', 43)\n",
      "(204, 'shreya', 36)\n",
      "____________________________________________________________\n"
     ]
    }
   ],
   "source": [
    "results=db.execute(\"Select * from grades1 where score>=36\")\n",
    "for row in results:\n",
    "    print(row)\n",
    "print(\"_\" *60)"
   ]
  },
  {
   "cell_type": "code",
   "execution_count": 44,
   "id": "fd7080ad",
   "metadata": {},
   "outputs": [
    {
     "name": "stdout",
     "output_type": "stream",
     "text": [
      "('shri', 56)\n",
      "('shree', 45)\n",
      "('shravya', 43)\n",
      "('shreya', 36)\n",
      "('rakshi', 34)\n",
      "____________________________________________________________\n"
     ]
    }
   ],
   "source": [
    "results=db.execute(\"Select name,score from grades1 order by score='dest' \")\n",
    "for row in results:\n",
    "    print(row)\n",
    "print(\"_\" *60)"
   ]
  },
  {
   "cell_type": "code",
   "execution_count": 37,
   "id": "712fea91",
   "metadata": {},
   "outputs": [
    {
     "name": "stdout",
     "output_type": "stream",
     "text": [
      "('rakshi', 34)\n",
      "('shreya', 36)\n",
      "('shravya', 43)\n",
      "('shree', 45)\n",
      "('shri', 56)\n",
      "____________________________________________________________\n"
     ]
    }
   ],
   "source": [
    "results=db.execute(\"Select name,score from grades1 order by score\")\n",
    "for row in results:\n",
    "    print(row)\n",
    "print(\"_\" *60)"
   ]
  },
  {
   "cell_type": "code",
   "execution_count": 36,
   "id": "e5797537",
   "metadata": {},
   "outputs": [
    {
     "name": "stdout",
     "output_type": "stream",
     "text": [
      "('rakshi', 34)\n",
      "('shreya', 36)\n",
      "('shravya', 43)\n",
      "('shree', 45)\n",
      "('shri', 56)\n",
      "____________________________________________________________\n"
     ]
    }
   ],
   "source": [
    "results=db.execute(\"Select name ,score from grades1 order by score\")\n",
    "for row in results:\n",
    "    print(row)\n",
    "print(\"_\" *60)"
   ]
  },
  {
   "cell_type": "code",
   "execution_count": null,
   "id": "48145991",
   "metadata": {},
   "outputs": [],
   "source": []
  }
 ],
 "metadata": {
  "kernelspec": {
   "display_name": "Python 3 (ipykernel)",
   "language": "python",
   "name": "python3"
  },
  "language_info": {
   "codemirror_mode": {
    "name": "ipython",
    "version": 3
   },
   "file_extension": ".py",
   "mimetype": "text/x-python",
   "name": "python",
   "nbconvert_exporter": "python",
   "pygments_lexer": "ipython3",
   "version": "3.9.6"
  }
 },
 "nbformat": 4,
 "nbformat_minor": 5
}
